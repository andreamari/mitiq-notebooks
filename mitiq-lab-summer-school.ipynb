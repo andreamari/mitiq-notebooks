{
 "cells": [
  {
   "cell_type": "markdown",
   "id": "f79d5da4",
   "metadata": {},
   "source": [
    "# Hands-on lab on error mitigation with Mitiq.\n",
    "\n",
    "This notebook is a guided tutorial on error mitigation with Mitiq. The notebook is focused on the zero-noise extrapolation (ZNE) technique.\n",
    "\n",
    "\n",
    "Useful links:\n",
    "\n",
    "* Mitiq repository: https://github.com/unitaryfund/mitiq\n",
    "* Mitiq documentation: https://mitiq.readthedocs.io/en/stable/\n",
    "* Mitiq docs on ZNE: https://mitiq.readthedocs.io/en/stable/guide/zne.html\n",
    "* Mitiq white paper: https://arxiv.org/abs/2009.04417\n",
    "* Unitary Fund:  https://unitary.fund"
   ]
  },
  {
   "cell_type": "markdown",
   "id": "ee64c9dd",
   "metadata": {},
   "source": [
    "## Checking Python packages are installed correctly"
   ]
  },
  {
   "cell_type": "markdown",
   "id": "323b8bd0",
   "metadata": {},
   "source": [
    "This notebook was tested with **Mitiq v0.17.0** and **qiskit v0.36.2**. It probably works with other versions too. Moreover, with minor changes, it can be adapted to quantum libraries that are different from Qiskit: Cirq, Braket, PyQuil, etc.."
   ]
  },
  {
   "cell_type": "markdown",
   "id": "08279c87",
   "metadata": {},
   "source": [
    "If you need to install Mitiq and/or Qiskit, you can uncomment and run the following cells."
   ]
  },
  {
   "cell_type": "code",
   "execution_count": 1,
   "id": "965db5fe",
   "metadata": {},
   "outputs": [],
   "source": [
    "# !pip install mitiq==0.17.0"
   ]
  },
  {
   "cell_type": "code",
   "execution_count": 2,
   "id": "52825a94",
   "metadata": {},
   "outputs": [],
   "source": [
    "# !pip install qiskit==0.36.2"
   ]
  },
  {
   "cell_type": "markdown",
   "id": "a02c5d15",
   "metadata": {},
   "source": [
    "You can check your locally installed version of Mitiq and of the associated frontend libraries by running the next cell."
   ]
  },
  {
   "cell_type": "code",
   "execution_count": 3,
   "id": "d9df1dd8",
   "metadata": {},
   "outputs": [
    {
     "name": "stdout",
     "output_type": "stream",
     "text": [
      "\n",
      "Mitiq: A Python toolkit for implementing error mitigation on quantum computers\n",
      "==============================================================================\n",
      "Authored by: Mitiq team, 2020 & later (https://github.com/unitaryfund/mitiq)\n",
      "\n",
      "Mitiq Version:\t0.18.0dev\n",
      "\n",
      "Core Dependencies\n",
      "-----------------\n",
      "Cirq Version:\t0.15.0\n",
      "NumPy Version:\t1.20.3\n",
      "SciPy Version:\t1.7.3\n",
      "\n",
      "Optional Dependencies\n",
      "---------------------\n",
      "PyQuil Version:\t3.0.1\n",
      "Qiskit Version:\t0.36.0\n",
      "Braket Version:\t1.25.2\n",
      "\n",
      "Python Version:\t3.7.7\n",
      "Platform Info:\tLinux (x86_64)\n"
     ]
    }
   ],
   "source": [
    "from mitiq import about\n",
    "\n",
    "about()"
   ]
  },
  {
   "cell_type": "markdown",
   "id": "db2d6965",
   "metadata": {},
   "source": [
    "## Computing a quantum expectation value without error mitigation"
   ]
  },
  {
   "cell_type": "markdown",
   "id": "d77633a7",
   "metadata": {},
   "source": [
    "### Define the circuit of interest"
   ]
  },
  {
   "cell_type": "markdown",
   "id": "5628ebfb",
   "metadata": {},
   "source": [
    "For example, we define a circuit $U$ that prepares the GHZ state for $n$ qubits.\n",
    "\n",
    "$$ U |00...0\\rangle =  \\frac{|00...0\\rangle + |11...1\\rangle}{\\sqrt{2}} $$"
   ]
  },
  {
   "cell_type": "markdown",
   "id": "f0874000",
   "metadata": {},
   "source": [
    "This can be done by manually defining a Qiskit circuit or by calling the Mitiq function `mitiq.benchmarks.generate_ghz_circuit()`."
   ]
  },
  {
   "cell_type": "code",
   "execution_count": 4,
   "id": "7bc5abee",
   "metadata": {},
   "outputs": [
    {
     "name": "stdout",
     "output_type": "stream",
     "text": [
      "GHZ circuit:\n",
      "     ┌───┐                              \n",
      "q_0: ┤ H ├──■───────────────────────────\n",
      "     └───┘┌─┴─┐                         \n",
      "q_1: ─────┤ X ├──■──────────────────────\n",
      "          └───┘┌─┴─┐                    \n",
      "q_2: ──────────┤ X ├──■─────────────────\n",
      "               └───┘┌─┴─┐               \n",
      "q_3: ───────────────┤ X ├──■────────────\n",
      "                    └───┘┌─┴─┐          \n",
      "q_4: ────────────────────┤ X ├──■───────\n",
      "                         └───┘┌─┴─┐     \n",
      "q_5: ─────────────────────────┤ X ├──■──\n",
      "                              └───┘┌─┴─┐\n",
      "q_6: ──────────────────────────────┤ X ├\n",
      "                                   └───┘\n"
     ]
    }
   ],
   "source": [
    "from mitiq.benchmarks import generate_ghz_circuit\n",
    "\n",
    "\n",
    "n_qubits = 7\n",
    "\n",
    "circuit = generate_ghz_circuit(n_qubits=n_qubits, return_type=\"qiskit\")\n",
    "print(\"GHZ circuit:\")\n",
    "print(circuit)"
   ]
  },
  {
   "cell_type": "markdown",
   "id": "ea644919",
   "metadata": {},
   "source": [
    "Let us define the Hermitian observable:\n",
    "\n",
    "$$ A = |00...0\\rangle\\langle 00...0| +  |11...1\\rangle\\langle 11...1|.$$\n",
    "\n",
    "In the **absence of noise**, the expectation value of $A$ is equal to 1:  \n",
    "\n",
    "$${\\rm tr}(\\rho_{\\rm} A)= \\langle 00...0| U^\\dagger A U |00...0\\rangle= \\frac{1}{2} + \\frac{1}{2}=1.$$\n",
    "\n",
    "In practice this means that, when measuring the state in the computational basis, we can only obtain either the bitstring  $00\\dots 0$ or the biststring $11\\dots 1$.\n",
    "\n",
    "In the **presence of noise** instead, the expectation value of the same observable $A$ will be smaller.\n",
    "Let's verify this fact, before applying any error mitigation."
   ]
  },
  {
   "cell_type": "markdown",
   "id": "643ff018",
   "metadata": {},
   "source": [
    "### Run the circuit with a noiseless backend and with a noisy backend."
   ]
  },
  {
   "cell_type": "markdown",
   "id": "57ffc547",
   "metadata": {},
   "source": [
    "**Hint:** You can follow [this Qiskit example](https://qiskit.org/documentation/tutorials/simulators/2_device_noise_simulation.html) in which a (simulated) noiseless backend and a (simulated) noisy backend are compared."
   ]
  },
  {
   "cell_type": "code",
   "execution_count": 5,
   "id": "a9cb1622",
   "metadata": {},
   "outputs": [],
   "source": [
    "from qiskit import QuantumCircuit\n",
    "from qiskit.providers.aer import AerSimulator\n",
    "from qiskit.tools.visualization import plot_histogram\n",
    "from qiskit import transpile\n",
    "from qiskit.test import mock  # Fake (simulated) QPUs\n",
    "\n",
    "# Number of measurements\n",
    "shots = 10 ** 5"
   ]
  },
  {
   "cell_type": "markdown",
   "id": "2c5b0fea",
   "metadata": {},
   "source": [
    "We first execute the circuit on an ideal noiseless simulator."
   ]
  },
  {
   "cell_type": "code",
   "execution_count": 6,
   "id": "9e04df7a",
   "metadata": {},
   "outputs": [
    {
     "data": {
      "image/png": "[encoded data removed]",
      "text/plain": [
       "<Figure size 504x360 with 1 Axes>"
      ]
     },
     "execution_count": 6,
     "metadata": {},
     "output_type": "execute_result"
    }
   ],
   "source": [
    "ideal_backend = AerSimulator()\n",
    "\n",
    "# Append measurement gates\n",
    "circuit_to_run = circuit.copy()\n",
    "circuit_to_run.measure_all()\n",
    "\n",
    "ideal_result = ideal_backend.run(circuit_to_run, shots=shots).result()\n",
    "ideal_counts = ideal_result.get_counts(circuit_to_run)\n",
    "plot_histogram(ideal_counts, title='Counts for an ideal GHZ state')"
   ]
  },
  {
   "cell_type": "markdown",
   "id": "4fd24463",
   "metadata": {},
   "source": [
    "We now execute the same circuit on a noisy backend (a classical emulator of a real QPU)"
   ]
  },
  {
   "cell_type": "code",
   "execution_count": 7,
   "id": "42351425",
   "metadata": {},
   "outputs": [],
   "source": [
    "noisy_backend = mock.FakeJakarta() # QPU emulator\n",
    "\n",
    "# Compile the circuit into the native gates of the backend\n",
    "compiled_circuit = transpile(circuit_to_run, noisy_backend)"
   ]
  },
  {
   "cell_type": "code",
   "execution_count": 8,
   "id": "1a605dd3",
   "metadata": {},
   "outputs": [
    {
     "data": {
      "image/png": "[encoded data removed]",
      "text/plain": [
       "<Figure size 1080x360 with 1 Axes>"
      ]
     },
     "execution_count": 8,
     "metadata": {},
     "output_type": "execute_result"
    }
   ],
   "source": [
    "# Run the simulation on the noisy backend\n",
    "noisy_result = noisy_backend.run(compiled_circuit, shots=shots).result()\n",
    "noisy_counts = noisy_result.get_counts(compiled_circuit)\n",
    "plot_histogram(noisy_counts, title='Counts for a noisy GHZ state', figsize=(15, 5))"
   ]
  },
  {
   "cell_type": "code",
   "execution_count": 9,
   "id": "2033d172",
   "metadata": {},
   "outputs": [
    {
     "name": "stdout",
     "output_type": "stream",
     "text": [
      "The ideal expectation value is <A> = 1.0\n",
      "The noisy expectation value is <A> = 0.7858\n"
     ]
    }
   ],
   "source": [
    "ideal_expectation_value = (ideal_counts[n_qubits * \"0\"] + ideal_counts[n_qubits * \"1\"]) / shots\n",
    "print(f\"The ideal expectation value is <A> = {ideal_expectation_value}\")\n",
    "\n",
    "noisy_expectation_value = (noisy_counts[n_qubits * \"0\"] + noisy_counts[n_qubits * \"1\"]) / shots\n",
    "print(f\"The noisy expectation value is <A> = {noisy_expectation_value}\")"
   ]
  },
  {
   "cell_type": "markdown",
   "id": "39d1d1d1",
   "metadata": {},
   "source": [
    "## Apply zero-noise extrapolation with Mitiq"
   ]
  },
  {
   "cell_type": "markdown",
   "id": "60404fa1",
   "metadata": {},
   "source": [
    "Before using Mitiq we need wrap the previous code into a function that takes as input a circuit and returns the noisy expectation value of the observable $A$. This function will be used by Mitiq as a black box during the error mitigation process."
   ]
  },
  {
   "cell_type": "code",
   "execution_count": 10,
   "id": "15df9eda",
   "metadata": {},
   "outputs": [],
   "source": [
    "def execute(compiled_circuit):\n",
    "    \"\"\"Executes the input circuits and returns the expectation value of A=|00..0><00..0| + |11..1><11..1|.\"\"\"\n",
    "    print(\"Executing a circuit of depth:\", compiled_circuit.depth())\n",
    "    noisy_backend = mock.FakeJakarta()\n",
    "    noisy_result = noisy_backend.run(compiled_circuit, shots=shots).result()\n",
    "    noisy_counts = noisy_result.get_counts(compiled_circuit)\n",
    "    noisy_expectation_value = (noisy_counts[n_qubits * \"0\"] + noisy_counts[n_qubits * \"1\"]) / shots\n",
    "    return noisy_expectation_value"
   ]
  },
  {
   "cell_type": "markdown",
   "id": "1257ae06",
   "metadata": {},
   "source": [
    "Let us check if the function works as expeted."
   ]
  },
  {
   "cell_type": "code",
   "execution_count": 11,
   "id": "d0cc738c",
   "metadata": {},
   "outputs": [
    {
     "name": "stdout",
     "output_type": "stream",
     "text": [
      "Executing a circuit of depth: 22\n",
      "The noisy expectation value is <A> = 0.78619\n"
     ]
    }
   ],
   "source": [
    "print(f\"The noisy expectation value is <A> = {execute(compiled_circuit)}\")"
   ]
  },
  {
   "cell_type": "markdown",
   "id": "2e7ec5f2",
   "metadata": {},
   "source": [
    "We can now apply zero-noise extrapolation with Mitiq. Without advanced options, this requires a single line of code."
   ]
  },
  {
   "cell_type": "code",
   "execution_count": 12,
   "id": "6563f0de",
   "metadata": {},
   "outputs": [
    {
     "name": "stdout",
     "output_type": "stream",
     "text": [
      "Executing a circuit of depth: 22\n",
      "Executing a circuit of depth: 42\n",
      "Executing a circuit of depth: 64\n",
      "The error mitigated expectation value is <A> = 0.7995899999999995\n"
     ]
    }
   ],
   "source": [
    "from mitiq import zne\n",
    "\n",
    "zne_value = zne.execute_with_zne(compiled_circuit, executor=execute)\n",
    "print(f\"The error mitigated expectation value is <A> = {zne_value}\")"
   ]
  },
  {
   "cell_type": "markdown",
   "id": "1a1369a3",
   "metadata": {},
   "source": [
    "**Note:** As you can see from the printed output, Mitiq calls the execute function multiple times (3 in this case) to evaluate circuits of different depths in order to extrapolate the ideal result."
   ]
  },
  {
   "cell_type": "markdown",
   "id": "626662a1",
   "metadata": {},
   "source": [
    "Let us compare the absolute estimation error obtained with and without Mitiq."
   ]
  },
  {
   "cell_type": "code",
   "execution_count": 13,
   "id": "07558905",
   "metadata": {},
   "outputs": [
    {
     "name": "stdout",
     "output_type": "stream",
     "text": [
      "Error without Mitiq: 0.21419999999999995\n",
      "Error with Mitiq: 0.20041000000000053\n"
     ]
    }
   ],
   "source": [
    "print(f\"Error without Mitiq: {abs(ideal_expectation_value - noisy_expectation_value)}\")\n",
    "print(f\"Error with Mitiq: {abs(ideal_expectation_value - zne_value)}\")"
   ]
  },
  {
   "cell_type": "markdown",
   "id": "f71081e8",
   "metadata": {},
   "source": [
    "## Explicitly selecting the noise-scaling method and the extrapolation method"
   ]
  },
  {
   "cell_type": "code",
   "execution_count": 14,
   "id": "0fca0bae",
   "metadata": {},
   "outputs": [
    {
     "name": "stdout",
     "output_type": "stream",
     "text": [
      "Executing a circuit of depth: 22\n",
      "Executing a circuit of depth: 42\n",
      "Executing a circuit of depth: 64\n",
      "The error mitigated expectation value is <A> = 0.8715399999999992\n"
     ]
    },
    {
     "data": {
      "image/png": "[encoded data removed]",
      "text/plain": [
       "<Figure size 504x360 with 1 Axes>"
      ]
     },
     "metadata": {
      "needs_background": "light"
     },
     "output_type": "display_data"
    }
   ],
   "source": [
    "from mitiq import zne\n",
    "\n",
    "# Select a noise scaling method\n",
    "folding_function = zne.scaling.fold_global\n",
    "\n",
    "# Select an inference method\n",
    "factory = zne.inference.RichardsonFactory(scale_factors = [1.0, 2.0, 3.0])\n",
    "\n",
    "zne_value = zne.execute_with_zne(\n",
    "    compiled_circuit, \n",
    "    executor=execute,\n",
    "    scale_noise = folding_function,\n",
    "    factory = factory,\n",
    ")\n",
    "factory.plot_fit()\n",
    "print(f\"The error mitigated expectation value is <A> = {zne_value}\")"
   ]
  },
  {
   "cell_type": "markdown",
   "id": "ee5bc6a0",
   "metadata": {},
   "source": [
    "## What happens behind the scenes? A low-level application of ZNE."
   ]
  },
  {
   "cell_type": "markdown",
   "id": "3e495297",
   "metadata": {},
   "source": [
    "### STEP 1: Noise-scaled expectation values are evaluated via gate-level \"unitary folding\" transformations"
   ]
  },
  {
   "cell_type": "markdown",
   "id": "485cd04e",
   "metadata": {},
   "source": [
    "In Mitiq one can indirectly amplify noise by intentionally increasing the depth of the circuit in different ways."
   ]
  },
  {
   "cell_type": "markdown",
   "id": "352cb08a",
   "metadata": {},
   "source": [
    "For example, the function `zne.scaling.fold_gates_at_random()` applies transformation $G \\rightarrow G G^\\dagger G$ to each gate of the circuit (or to a random subset of gates)."
   ]
  },
  {
   "cell_type": "code",
   "execution_count": 15,
   "id": "c7466a3d",
   "metadata": {},
   "outputs": [
    {
     "name": "stdout",
     "output_type": "stream",
     "text": [
      "Locally folded GHZ circuit:\n",
      "     ┌───┐┌───┐┌───┐                                                       »\n",
      "q_0: ┤ H ├┤ H ├┤ H ├──■────■────■──────────────────────────────────────────»\n",
      "     └───┘└───┘└───┘┌─┴─┐┌─┴─┐┌─┴─┐                                        »\n",
      "q_1: ───────────────┤ X ├┤ X ├┤ X ├──■────■────■───────────────────────────»\n",
      "                    └───┘└───┘└───┘┌─┴─┐┌─┴─┐┌─┴─┐                         »\n",
      "q_2: ──────────────────────────────┤ X ├┤ X ├┤ X ├──■────■────■────────────»\n",
      "                                   └───┘└───┘└───┘┌─┴─┐┌─┴─┐┌─┴─┐          »\n",
      "q_3: ─────────────────────────────────────────────┤ X ├┤ X ├┤ X ├──■────■──»\n",
      "                                                  └───┘└───┘└───┘┌─┴─┐┌─┴─┐»\n",
      "q_4: ────────────────────────────────────────────────────────────┤ X ├┤ X ├»\n",
      "                                                                 └───┘└───┘»\n",
      "q_5: ──────────────────────────────────────────────────────────────────────»\n",
      "                                                                           »\n",
      "q_6: ──────────────────────────────────────────────────────────────────────»\n",
      "                                                                           »\n",
      "«                                        \n",
      "«q_0: ───────────────────────────────────\n",
      "«                                        \n",
      "«q_1: ───────────────────────────────────\n",
      "«                                        \n",
      "«q_2: ───────────────────────────────────\n",
      "«                                        \n",
      "«q_3: ──■────────────────────────────────\n",
      "«     ┌─┴─┐                              \n",
      "«q_4: ┤ X ├──■────■────■─────────────────\n",
      "«     └───┘┌─┴─┐┌─┴─┐┌─┴─┐               \n",
      "«q_5: ─────┤ X ├┤ X ├┤ X ├──■────■────■──\n",
      "«          └───┘└───┘└───┘┌─┴─┐┌─┴─┐┌─┴─┐\n",
      "«q_6: ────────────────────┤ X ├┤ X ├┤ X ├\n",
      "«                         └───┘└───┘└───┘\n"
     ]
    }
   ],
   "source": [
    "locally_folded_circuit = zne.scaling.fold_gates_at_random(circuit, scale_factor=3)\n",
    "\n",
    "print(\"Locally folded GHZ circuit:\")\n",
    "print(locally_folded_circuit)"
   ]
  },
  {
   "cell_type": "markdown",
   "id": "65d728f9",
   "metadata": {},
   "source": [
    "**Note:** To get a simple visualization, we did't apply the preliminary circuit transpilation that we used in the previous section."
   ]
  },
  {
   "cell_type": "markdown",
   "id": "7497e05a",
   "metadata": {},
   "source": [
    "Alternatively, the function `zne.scaling.fold_global()` applies the transformation $U \\rightarrow U U^\\dagger U$ to the full circuit."
   ]
  },
  {
   "cell_type": "code",
   "execution_count": 16,
   "id": "0f2a29ff",
   "metadata": {},
   "outputs": [
    {
     "name": "stdout",
     "output_type": "stream",
     "text": [
      "Globally folded GHZ circuit:\n",
      "     ┌───┐                                                            ┌───┐»\n",
      "q_0: ┤ H ├──■──────────────────────────────────────────────────────■──┤ H ├»\n",
      "     └───┘┌─┴─┐                                                  ┌─┴─┐└───┘»\n",
      "q_1: ─────┤ X ├──■────────────────────────────────────────────■──┤ X ├─────»\n",
      "          └───┘┌─┴─┐                                        ┌─┴─┐└───┘     »\n",
      "q_2: ──────────┤ X ├──■──────────────────────────────────■──┤ X ├──────────»\n",
      "               └───┘┌─┴─┐                              ┌─┴─┐└───┘          »\n",
      "q_3: ───────────────┤ X ├──■────────────────────────■──┤ X ├───────────────»\n",
      "                    └───┘┌─┴─┐                    ┌─┴─┐└───┘               »\n",
      "q_4: ────────────────────┤ X ├──■──────────────■──┤ X ├────────────────────»\n",
      "                         └───┘┌─┴─┐          ┌─┴─┐└───┘                    »\n",
      "q_5: ─────────────────────────┤ X ├──■────■──┤ X ├─────────────────────────»\n",
      "                              └───┘┌─┴─┐┌─┴─┐└───┘                         »\n",
      "q_6: ──────────────────────────────┤ X ├┤ X ├──────────────────────────────»\n",
      "                                   └───┘└───┘                              »\n",
      "«     ┌───┐                              \n",
      "«q_0: ┤ H ├──■───────────────────────────\n",
      "«     └───┘┌─┴─┐                         \n",
      "«q_1: ─────┤ X ├──■──────────────────────\n",
      "«          └───┘┌─┴─┐                    \n",
      "«q_2: ──────────┤ X ├──■─────────────────\n",
      "«               └───┘┌─┴─┐               \n",
      "«q_3: ───────────────┤ X ├──■────────────\n",
      "«                    └───┘┌─┴─┐          \n",
      "«q_4: ────────────────────┤ X ├──■───────\n",
      "«                         └───┘┌─┴─┐     \n",
      "«q_5: ─────────────────────────┤ X ├──■──\n",
      "«                              └───┘┌─┴─┐\n",
      "«q_6: ──────────────────────────────┤ X ├\n",
      "«                                   └───┘\n"
     ]
    }
   ],
   "source": [
    "globally_folded_circuit = zne.scaling.fold_global(circuit, scale_factor=3)\n",
    "print(\"Globally folded GHZ circuit:\")\n",
    "print(globally_folded_circuit)"
   ]
  },
  {
   "cell_type": "markdown",
   "id": "89bef9ab",
   "metadata": {},
   "source": [
    "In both cases, the results are longer circuits which are more sensitive to noise. Those circuits can be used to evaluate noise scaled expectation values."
   ]
  },
  {
   "cell_type": "markdown",
   "id": "eb1e761f",
   "metadata": {},
   "source": [
    "For example, let's use global folding to evaluate a list of noise scaled expectation values."
   ]
  },
  {
   "cell_type": "code",
   "execution_count": 17,
   "id": "06283dc4",
   "metadata": {},
   "outputs": [
    {
     "name": "stdout",
     "output_type": "stream",
     "text": [
      "Executing a circuit of depth: 22\n",
      "Executing a circuit of depth: 42\n",
      "Executing a circuit of depth: 64\n",
      "Noise-scaled expectation values: [0.7845, 0.72802, 0.69303]\n"
     ]
    }
   ],
   "source": [
    "scale_factors = [1.0, 2.0, 3.0]\n",
    "# It is usually better apply unitary folding to the compiled circuit\n",
    "noise_scaled_circuits = [zne.scaling.fold_global(compiled_circuit, s) for s in scale_factors]\n",
    "\n",
    "# We run all the noise scaled circuits on the noisy backend\n",
    "noise_scaled_vals = [execute(c) for c in noise_scaled_circuits]\n",
    "\n",
    "print(\"Noise-scaled expectation values:\", noise_scaled_vals)"
   ]
  },
  {
   "cell_type": "markdown",
   "id": "fc85cccb",
   "metadata": {},
   "source": [
    "### STEP 2: Inference of the ideal result via zero-noise extrapolation\n"
   ]
  },
  {
   "cell_type": "markdown",
   "id": "44bf768b",
   "metadata": {},
   "source": [
    "Given the list of noise scaled expectation values, one can extrapolate the zero-noise limit. This is the final classical post-processing step."
   ]
  },
  {
   "cell_type": "code",
   "execution_count": 18,
   "id": "f5220e76",
   "metadata": {},
   "outputs": [
    {
     "name": "stdout",
     "output_type": "stream",
     "text": [
      "The Richardson zero-noise extrapolation is: 0.8624699999999998\n"
     ]
    },
    {
     "data": {
      "image/png": "[encoded data removed]",
      "text/plain": [
       "<Figure size 504x360 with 1 Axes>"
      ]
     },
     "metadata": {
      "needs_background": "light"
     },
     "output_type": "display_data"
    }
   ],
   "source": [
    "# Initialize a Richardson extrapolation object\n",
    "richardson_factory = zne.RichardsonFactory(scale_factors)\n",
    "\n",
    "# Load the previously measured data\n",
    "for s, val in zip(scale_factors, noise_scaled_vals):\n",
    "    richardson_factory.push({\"scale_factor\": s}, val)\n",
    "\n",
    "print(\"The Richardson zero-noise extrapolation is:\", richardson_factory.reduce())\n",
    "_ = richardson_factory.plot_fit()"
   ]
  },
  {
   "cell_type": "code",
   "execution_count": 19,
   "id": "98fdb20a",
   "metadata": {},
   "outputs": [
    {
     "name": "stdout",
     "output_type": "stream",
     "text": [
      "The linear zero-noise extrapolation is 0.8266533333333337\n"
     ]
    },
    {
     "data": {
      "image/png": "[encoded data removed]",
      "text/plain": [
       "<Figure size 504x360 with 1 Axes>"
      ]
     },
     "metadata": {
      "needs_background": "light"
     },
     "output_type": "display_data"
    }
   ],
   "source": [
    "# Initialize a linear extrapolation object\n",
    "linear_factory = zne.LinearFactory(scale_factors)\n",
    "\n",
    "# Load the previously measured data\n",
    "for s, val in zip(scale_factors, noise_scaled_vals):\n",
    "    linear_factory.push({\"scale_factor\": s}, val)\n",
    "\n",
    "print(\"The linear zero-noise extrapolation is\", linear_factory.reduce())\n",
    "_ = linear_factory.plot_fit()"
   ]
  },
  {
   "cell_type": "markdown",
   "id": "736b2fa5",
   "metadata": {},
   "source": [
    "**Note:** We evaluated two different extrapolations without measuring the system twice. This is possible since the final extrapolation step is simply a classical post-processing of the same measured data."
   ]
  },
  {
   "cell_type": "markdown",
   "id": "32778194",
   "metadata": {},
   "source": [
    "## References\n",
    "\n",
    "1. _Mitiq: A software package for error mitigation on noisy quantum computers_, R. LaRose at al., [arXiv:2009.04417](https://arxiv.org/abs/2009.04417) (2020).\n",
    "\n",
    "2. _Efficient variational quantum simulator incorporating active error minimisation_, Y. Li, S. C. Benjamin, [arXiv:1611.09301](https://arxiv.org/abs/1611.09301) (2016).\n",
    "\n",
    "3. _Error mitigation for short-depth quantum circuits_, K. Temme, S. Bravyi, J. M. Gambetta, [arXiv:1612.02058](https://arxiv.org/abs/1612.02058) (2016).\n",
    "\n",
    "4. _Digital zero noise extrapolation for quantum error mitigation_, \n",
    "T. Giurgica-Tiron, Y. Hindy, R. LaRose, A. Mari, W. J. Zeng,\n",
    "[arXiv:2005.10921](https://arxiv.org/abs/2005.10921) (2020).\n",
    "\n"
   ]
  }
 ],
 "metadata": {
  "jupytext": {
   "text_representation": {
    "extension": ".myst",
    "format_name": "myst",
    "format_version": 0.13,
    "jupytext_version": "1.11.1"
   }
  },
  "kernelspec": {
   "display_name": "Python 3",
   "language": "python",
   "name": "python3"
  },
  "language_info": {
   "codemirror_mode": {
    "name": "ipython",
    "version": 3
   },
   "file_extension": ".py",
   "mimetype": "text/x-python",
   "name": "python",
   "nbconvert_exporter": "python",
   "pygments_lexer": "ipython3",
   "version": "3.7.7"
  }
 },
 "nbformat": 4,
 "nbformat_minor": 5
}
